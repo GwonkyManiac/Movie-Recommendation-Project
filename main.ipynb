{
 "cells": [
  {
   "cell_type": "code",
   "execution_count": 2,
   "metadata": {},
   "outputs": [
    {
     "name": "stdout",
     "output_type": "stream",
     "text": [
      "Movie Title: Fight Club\n",
      "Overview: A ticking-time-bomb insomniac and a slippery soap salesman channel primal male aggression into a shocking new form of therapy. Their concept catches on, with underground \"fight clubs\" forming in every town, until an eccentric gets in the way and ignites an out-of-control spiral toward oblivion.\n"
     ]
    }
   ],
   "source": [
    "import requests\n",
    "from config import token\n",
    "# URL for TMDB API \n",
    "url = f'https://api.themoviedb.org/3/movie/550'  # Example movie ID (Inception)\n",
    "\n",
    "# Headers to be sent with the request \n",
    "headers = {\n",
    "    'accept': 'application/json',\n",
    "    'Authorization': f'Bearer {token}'\n",
    "}\n",
    "\n",
    "# GET request\n",
    "response = requests.get(url, headers=headers)\n",
    "\n",
    "#  request was successful (status code 200)\n",
    "if response.status_code == 200:\n",
    "    # Extracting data from the response\n",
    "    movie_data = response.json()    \n",
    "    # Printing the title and overview of the movie\n",
    "    print(\"Movie Title:\", movie_data['title'])\n",
    "    print(\"Overview:\", movie_data['overview'])  \n",
    "    \n",
    "else:\n",
    "    print(\"Error:\", response.status_code)\n"
   ]
  },
  {
   "cell_type": "code",
   "execution_count": 33,
   "metadata": {},
   "outputs": [
    {
     "name": "stdout",
     "output_type": "stream",
     "text": [
      "Freelance\n",
      "The Painter\n",
      "Napoleon\n",
      "Poor Things\n",
      "The Tiger's Apprentice\n",
      "Upgraded\n",
      "Due Justice\n",
      "Expend4bles\n",
      "Bob Marley: One Love\n",
      "Oppenheimer\n",
      "Robot Dreams\n",
      "The Creator\n",
      "The Boy and the Heron\n",
      "Boudica\n",
      "Mary and Max\n",
      "Deadpool & Wolverine\n",
      "Muzzle\n",
      "Transformers: Rise of the Beasts\n",
      "The Equalizer 3\n",
      "Godzilla x Kong: The New Empire\n",
      "Example movie: 42508\n",
      "Title: Freelance\n",
      "Score: 2023-10-05\n",
      "Popularity: 330.728\n"
     ]
    }
   ],
   "source": [
    "base_url = 'https://api.themoviedb.org/3'\n",
    "# Make request to retrieve the 25 on page 2 most popular movies\n",
    "response = requests.get(f\"{base_url}/movie/popular?page=2\", headers=headers)\n",
    "popular_movies_data = response.json()\n",
    "\n",
    "# Extract data for each popular movie\n",
    "popular_movies = []\n",
    "for movie in popular_movies_data['results']:  # Limit to the first 100 movies\n",
    "    title = movie['title']\n",
    "    print(title)\n",
    "    release_date = movie['release_date']\n",
    "    popularity = movie['popularity']\n",
    "    popular_movies.append({\"title\": title, \"release_date\": release_date , \"popularity\": popularity})\n",
    "\n",
    "# Print the data for the first movie as an example\n",
    "    \n",
    "print(\"Example movie:\", popular_movies_data[\"total_pages\"])\n",
    "print(\"Title:\", popular_movies[0][\"title\"])\n",
    "print(\"Score:\", popular_movies[0][\"release_date\"])\n",
    "print(\"Popularity:\", popular_movies[19][\"popularity\"])\n"
   ]
  },
  {
   "cell_type": "code",
   "execution_count": 4,
   "metadata": {},
   "outputs": [
    {
     "name": "stdout",
     "output_type": "stream",
     "text": [
      "                                 title release_date  popularity  \\\n",
      "0                      Badland Hunters   2024-01-26    1924.206   \n",
      "1                        Sixty Minutes   2024-01-19    1252.532   \n",
      "2                                Wonka   2023-12-06    1127.617   \n",
      "3                           Madame Web   2024-02-14    1108.735   \n",
      "4                          The Marvels   2023-11-08    1013.855   \n",
      "...                                ...          ...         ...   \n",
      "9897           Huesera: The Bone Woman   2023-02-10      14.014   \n",
      "9901                    Suitable Flesh   2023-10-27      22.101   \n",
      "9974  When You Finish Saving the World   2023-01-20      14.857   \n",
      "9984                        The Lesson   2023-07-07      13.944   \n",
      "9995  Teri Baaton Mein Aisa Uljha Jiya   2024-02-09      13.936   \n",
      "\n",
      "                 genre_ids  vote_average  \n",
      "0            [878, 28, 18]         6.713  \n",
      "1                 [28, 18]         6.881  \n",
      "2          [35, 10751, 14]         7.196  \n",
      "3            [878, 28, 12]         5.480  \n",
      "4            [878, 12, 28]         6.285  \n",
      "...                    ...           ...  \n",
      "9897        [18, 27, 9648]         5.828  \n",
      "9901              [27, 53]         5.300  \n",
      "9974              [18, 35]         5.800  \n",
      "9984              [53, 18]         6.412  \n",
      "9995  [10749, 35, 878, 18]         5.667  \n",
      "\n",
      "[990 rows x 5 columns]\n"
     ]
    }
   ],
   "source": [
    "import pandas as pd\n",
    "\n",
    "df = pd.read_csv('data/movies_data_first10k.csv')\n",
    "\n",
    "# Example filtering movies released after a certain date\n",
    "filtered_df = df[df['release_date'] > '2023-01-01']\n",
    "print(filtered_df)"
   ]
  }
 ],
 "metadata": {
  "kernelspec": {
   "display_name": "Python 3",
   "language": "python",
   "name": "python3"
  },
  "language_info": {
   "codemirror_mode": {
    "name": "ipython",
    "version": 3
   },
   "file_extension": ".py",
   "mimetype": "text/x-python",
   "name": "python",
   "nbconvert_exporter": "python",
   "pygments_lexer": "ipython3",
   "version": "3.11.3"
  }
 },
 "nbformat": 4,
 "nbformat_minor": 2
}
